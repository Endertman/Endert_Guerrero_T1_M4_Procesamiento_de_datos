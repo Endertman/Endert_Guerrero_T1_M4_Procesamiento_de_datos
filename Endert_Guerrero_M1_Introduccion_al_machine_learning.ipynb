{
 "cells": [
  {
   "cell_type": "markdown",
   "metadata": {},
   "source": [
    "Endert Guerrero \n",
    "\n",
    "Módulo: 1\n",
    "\n",
    "Asignatura: Introducción al Machine Learning\n",
    "\n",
    "Docente Online: Freddy Hernan Sanchez Vallejos"
   ]
  },
  {
   "cell_type": "markdown",
   "metadata": {},
   "source": [
    "# Introducción\n",
    "\n"
   ]
  },
  {
   "cell_type": "markdown",
   "metadata": {},
   "source": [
    "# Librerias\n",
    "\n",
    "Importare las librerías necesarias para realizar el modulo."
   ]
  },
  {
   "cell_type": "code",
   "execution_count": 92,
   "metadata": {},
   "outputs": [],
   "source": [
    "import numpy as np\n",
    "import pandas as pd\n",
    "import seaborn as sns\n",
    "import matplotlib.pyplot as plt"
   ]
  },
  {
   "cell_type": "markdown",
   "metadata": {},
   "source": [
    "# Importación del dataset \n",
    "\n",
    "Importare el Dataset haciendo uso de pandas "
   ]
  },
  {
   "cell_type": "code",
   "execution_count": 93,
   "metadata": {},
   "outputs": [
    {
     "data": {
      "text/html": [
       "<div>\n",
       "<style scoped>\n",
       "    .dataframe tbody tr th:only-of-type {\n",
       "        vertical-align: middle;\n",
       "    }\n",
       "\n",
       "    .dataframe tbody tr th {\n",
       "        vertical-align: top;\n",
       "    }\n",
       "\n",
       "    .dataframe thead th {\n",
       "        text-align: right;\n",
       "    }\n",
       "</style>\n",
       "<table border=\"1\" class=\"dataframe\">\n",
       "  <thead>\n",
       "    <tr style=\"text-align: right;\">\n",
       "      <th></th>\n",
       "      <th>pclass</th>\n",
       "      <th>survived</th>\n",
       "      <th>name</th>\n",
       "      <th>sex</th>\n",
       "      <th>age</th>\n",
       "      <th>sibsp</th>\n",
       "      <th>parch</th>\n",
       "      <th>ticket</th>\n",
       "      <th>fare</th>\n",
       "      <th>cabin</th>\n",
       "      <th>embarked</th>\n",
       "      <th>boat</th>\n",
       "      <th>body</th>\n",
       "      <th>home.dest</th>\n",
       "    </tr>\n",
       "  </thead>\n",
       "  <tbody>\n",
       "    <tr>\n",
       "      <th>0</th>\n",
       "      <td>1.0</td>\n",
       "      <td>1</td>\n",
       "      <td>Allen, Miss. Elisabeth Walton</td>\n",
       "      <td>female</td>\n",
       "      <td>29.0000</td>\n",
       "      <td>0</td>\n",
       "      <td>0</td>\n",
       "      <td>24160</td>\n",
       "      <td>2113375.0</td>\n",
       "      <td>B5</td>\n",
       "      <td>S</td>\n",
       "      <td>2</td>\n",
       "      <td>NaN</td>\n",
       "      <td>St Louis, MO</td>\n",
       "    </tr>\n",
       "    <tr>\n",
       "      <th>1</th>\n",
       "      <td>1.0</td>\n",
       "      <td>1</td>\n",
       "      <td>Allison, Master. Hudson Trevor</td>\n",
       "      <td>male</td>\n",
       "      <td>0.9167</td>\n",
       "      <td>1</td>\n",
       "      <td>2</td>\n",
       "      <td>113781</td>\n",
       "      <td>1515500.0</td>\n",
       "      <td>C22 C26</td>\n",
       "      <td>S</td>\n",
       "      <td>11</td>\n",
       "      <td>NaN</td>\n",
       "      <td>Montreal, PQ / Chesterville, ON</td>\n",
       "    </tr>\n",
       "    <tr>\n",
       "      <th>2</th>\n",
       "      <td>1.0</td>\n",
       "      <td>0</td>\n",
       "      <td>Allison, Miss. Helen Loraine</td>\n",
       "      <td>female</td>\n",
       "      <td>2.0000</td>\n",
       "      <td>1</td>\n",
       "      <td>2</td>\n",
       "      <td>113781</td>\n",
       "      <td>1515500.0</td>\n",
       "      <td>C22 C26</td>\n",
       "      <td>S</td>\n",
       "      <td>NaN</td>\n",
       "      <td>NaN</td>\n",
       "      <td>Montreal, PQ / Chesterville, ON</td>\n",
       "    </tr>\n",
       "    <tr>\n",
       "      <th>3</th>\n",
       "      <td>1.0</td>\n",
       "      <td>0</td>\n",
       "      <td>Allison, Mr. Hudson Joshua Creighton</td>\n",
       "      <td>male</td>\n",
       "      <td>30.0000</td>\n",
       "      <td>1</td>\n",
       "      <td>2</td>\n",
       "      <td>113781</td>\n",
       "      <td>1515500.0</td>\n",
       "      <td>C22 C26</td>\n",
       "      <td>S</td>\n",
       "      <td>NaN</td>\n",
       "      <td>135.0</td>\n",
       "      <td>Montreal, PQ / Chesterville, ON</td>\n",
       "    </tr>\n",
       "    <tr>\n",
       "      <th>4</th>\n",
       "      <td>1.0</td>\n",
       "      <td>0</td>\n",
       "      <td>Allison, Mrs. Hudson J C (Bessie Waldo Daniels)</td>\n",
       "      <td>female</td>\n",
       "      <td>25.0000</td>\n",
       "      <td>1</td>\n",
       "      <td>2</td>\n",
       "      <td>113781</td>\n",
       "      <td>1515500.0</td>\n",
       "      <td>C22 C26</td>\n",
       "      <td>S</td>\n",
       "      <td>NaN</td>\n",
       "      <td>NaN</td>\n",
       "      <td>Montreal, PQ / Chesterville, ON</td>\n",
       "    </tr>\n",
       "    <tr>\n",
       "      <th>5</th>\n",
       "      <td>1.0</td>\n",
       "      <td>1</td>\n",
       "      <td>Anderson, Mr. Harry</td>\n",
       "      <td>male</td>\n",
       "      <td>48.0000</td>\n",
       "      <td>0</td>\n",
       "      <td>0</td>\n",
       "      <td>19952</td>\n",
       "      <td>265500.0</td>\n",
       "      <td>E12</td>\n",
       "      <td>S</td>\n",
       "      <td>3</td>\n",
       "      <td>NaN</td>\n",
       "      <td>New York, NY</td>\n",
       "    </tr>\n",
       "    <tr>\n",
       "      <th>6</th>\n",
       "      <td>1.0</td>\n",
       "      <td>1</td>\n",
       "      <td>Andrews, Miss. Kornelia Theodosia</td>\n",
       "      <td>female</td>\n",
       "      <td>63.0000</td>\n",
       "      <td>1</td>\n",
       "      <td>0</td>\n",
       "      <td>13502</td>\n",
       "      <td>779583.0</td>\n",
       "      <td>D7</td>\n",
       "      <td>S</td>\n",
       "      <td>10</td>\n",
       "      <td>NaN</td>\n",
       "      <td>Hudson, NY</td>\n",
       "    </tr>\n",
       "    <tr>\n",
       "      <th>7</th>\n",
       "      <td>1.0</td>\n",
       "      <td>0</td>\n",
       "      <td>Andrews, Mr. Thomas Jr</td>\n",
       "      <td>male</td>\n",
       "      <td>39.0000</td>\n",
       "      <td>0</td>\n",
       "      <td>0</td>\n",
       "      <td>112050</td>\n",
       "      <td>0.0</td>\n",
       "      <td>A36</td>\n",
       "      <td>S</td>\n",
       "      <td>NaN</td>\n",
       "      <td>NaN</td>\n",
       "      <td>Belfast, NI</td>\n",
       "    </tr>\n",
       "    <tr>\n",
       "      <th>8</th>\n",
       "      <td>1.0</td>\n",
       "      <td>1</td>\n",
       "      <td>Appleton, Mrs. Edward Dale (Charlotte Lamson)</td>\n",
       "      <td>female</td>\n",
       "      <td>53.0000</td>\n",
       "      <td>2</td>\n",
       "      <td>0</td>\n",
       "      <td>11769</td>\n",
       "      <td>514792.0</td>\n",
       "      <td>C101</td>\n",
       "      <td>S</td>\n",
       "      <td>D</td>\n",
       "      <td>NaN</td>\n",
       "      <td>Bayside, Queens, NY</td>\n",
       "    </tr>\n",
       "    <tr>\n",
       "      <th>9</th>\n",
       "      <td>1.0</td>\n",
       "      <td>0</td>\n",
       "      <td>Artagaveytia, Mr. Ramon</td>\n",
       "      <td>male</td>\n",
       "      <td>71.0000</td>\n",
       "      <td>0</td>\n",
       "      <td>0</td>\n",
       "      <td>PC 17609</td>\n",
       "      <td>495042.0</td>\n",
       "      <td>NaN</td>\n",
       "      <td>C</td>\n",
       "      <td>NaN</td>\n",
       "      <td>22.0</td>\n",
       "      <td>Montevideo, Uruguay</td>\n",
       "    </tr>\n",
       "    <tr>\n",
       "      <th>10</th>\n",
       "      <td>1.0</td>\n",
       "      <td>0</td>\n",
       "      <td>Astor, Col. John Jacob</td>\n",
       "      <td>male</td>\n",
       "      <td>47.0000</td>\n",
       "      <td>1</td>\n",
       "      <td>0</td>\n",
       "      <td>PC 17757</td>\n",
       "      <td>2275250.0</td>\n",
       "      <td>C62 C64</td>\n",
       "      <td>C</td>\n",
       "      <td>NaN</td>\n",
       "      <td>124.0</td>\n",
       "      <td>New York, NY</td>\n",
       "    </tr>\n",
       "  </tbody>\n",
       "</table>\n",
       "</div>"
      ],
      "text/plain": [
       "    pclass  survived                                             name     sex  \\\n",
       "0      1.0         1                    Allen, Miss. Elisabeth Walton  female   \n",
       "1      1.0         1                   Allison, Master. Hudson Trevor    male   \n",
       "2      1.0         0                     Allison, Miss. Helen Loraine  female   \n",
       "3      1.0         0             Allison, Mr. Hudson Joshua Creighton    male   \n",
       "4      1.0         0  Allison, Mrs. Hudson J C (Bessie Waldo Daniels)  female   \n",
       "5      1.0         1                              Anderson, Mr. Harry    male   \n",
       "6      1.0         1                Andrews, Miss. Kornelia Theodosia  female   \n",
       "7      1.0         0                           Andrews, Mr. Thomas Jr    male   \n",
       "8      1.0         1    Appleton, Mrs. Edward Dale (Charlotte Lamson)  female   \n",
       "9      1.0         0                          Artagaveytia, Mr. Ramon    male   \n",
       "10     1.0         0                           Astor, Col. John Jacob    male   \n",
       "\n",
       "        age  sibsp  parch    ticket       fare    cabin embarked boat   body  \\\n",
       "0   29.0000      0      0     24160  2113375.0       B5        S    2    NaN   \n",
       "1    0.9167      1      2    113781  1515500.0  C22 C26        S   11    NaN   \n",
       "2    2.0000      1      2    113781  1515500.0  C22 C26        S  NaN    NaN   \n",
       "3   30.0000      1      2    113781  1515500.0  C22 C26        S  NaN  135.0   \n",
       "4   25.0000      1      2    113781  1515500.0  C22 C26        S  NaN    NaN   \n",
       "5   48.0000      0      0     19952   265500.0      E12        S    3    NaN   \n",
       "6   63.0000      1      0     13502   779583.0       D7        S   10    NaN   \n",
       "7   39.0000      0      0    112050        0.0      A36        S  NaN    NaN   \n",
       "8   53.0000      2      0     11769   514792.0     C101        S    D    NaN   \n",
       "9   71.0000      0      0  PC 17609   495042.0      NaN        C  NaN   22.0   \n",
       "10  47.0000      1      0  PC 17757  2275250.0  C62 C64        C  NaN  124.0   \n",
       "\n",
       "                          home.dest  \n",
       "0                      St Louis, MO  \n",
       "1   Montreal, PQ / Chesterville, ON  \n",
       "2   Montreal, PQ / Chesterville, ON  \n",
       "3   Montreal, PQ / Chesterville, ON  \n",
       "4   Montreal, PQ / Chesterville, ON  \n",
       "5                      New York, NY  \n",
       "6                        Hudson, NY  \n",
       "7                       Belfast, NI  \n",
       "8               Bayside, Queens, NY  \n",
       "9               Montevideo, Uruguay  \n",
       "10                     New York, NY  "
      ]
     },
     "execution_count": 93,
     "metadata": {},
     "output_type": "execute_result"
    }
   ],
   "source": [
    "df = pd.read_excel(\"c:/Users/aleja/OneDrive/Escritorio/titanic_M1.xlsx\")\n",
    "df.head(11)"
   ]
  },
  {
   "cell_type": "code",
   "execution_count": 94,
   "metadata": {},
   "outputs": [
    {
     "name": "stdout",
     "output_type": "stream",
     "text": [
      "(1219, 14)\n"
     ]
    }
   ],
   "source": [
    "shape1 = df.shape\n",
    "print(shape1)"
   ]
  },
  {
   "cell_type": "markdown",
   "metadata": {},
   "source": [
    "# Ítem 1\n",
    "\n",
    "Los datos faltantes presentes en los Dataset son variados, hare uso de dos métodos, el primero que es \".dtypes\" me describirá el tipo de datos de dicha columna, por otro lado el método \".isnull\" en conjunto con \".sum\" me ayudan a visualizar el numero de datos nulos de cada columna.\n",
    "\n",
    "también podemos usar el método \".isna\" y realizar la misma acción del método \".isnull\", para el caso usare \".isnull\" ya que nos arrojara el mismo resultado."
   ]
  },
  {
   "cell_type": "code",
   "execution_count": 95,
   "metadata": {},
   "outputs": [
    {
     "data": {
      "text/plain": [
       "pclass       float64\n",
       "survived       int64\n",
       "name          object\n",
       "sex           object\n",
       "age          float64\n",
       "sibsp          int64\n",
       "parch          int64\n",
       "ticket        object\n",
       "fare         float64\n",
       "cabin         object\n",
       "embarked      object\n",
       "boat          object\n",
       "body         float64\n",
       "home.dest     object\n",
       "dtype: object"
      ]
     },
     "execution_count": 95,
     "metadata": {},
     "output_type": "execute_result"
    }
   ],
   "source": [
    "datos_nulos = df.isnull().sum()\n",
    "df.dtypes"
   ]
  },
  {
   "cell_type": "markdown",
   "metadata": {},
   "source": [
    "La descripción del tipo de dato nos puede ayudar a entender mejor los datos, podemos ver que algunos son floats y otros son integers, asi como también hay strings.\n",
    "\n",
    "Gracias a esto podemos llegar a conclusiones concretas de a que corresponde cada dato, por ejemplo en la rubrica no se nos habla de a que corresponde el dato \"body\", el cual es una columna bastante particular a primera vista porque tiene bastantes datos NaN (Not a Number) y en los casos en que hay un dato presente que a pesar de ser de tipo float podemos ver que son enteros, notamos que existe una correlación con sí el pasajero sobrevivió, solo hay datos presentes en los casos en los que esto no es así, entonces podemos llegar a la conclusion de que este valor corresponde al numero de asignado al cadaver, por eso vemos tantos NaN, ya que muchos cuerpos no fueron recuperados o sobrevivieron."
   ]
  },
  {
   "cell_type": "code",
   "execution_count": 96,
   "metadata": {},
   "outputs": [
    {
     "name": "stdout",
     "output_type": "stream",
     "text": [
      "pclass         76\n",
      "survived        0\n",
      "name            0\n",
      "sex             0\n",
      "age           239\n",
      "sibsp           0\n",
      "parch           0\n",
      "ticket          0\n",
      "fare            0\n",
      "cabin         927\n",
      "embarked        2\n",
      "boat          751\n",
      "body         1110\n",
      "home.dest     475\n",
      "dtype: int64\n"
     ]
    }
   ],
   "source": [
    "print(datos_nulos)"
   ]
  },
  {
   "cell_type": "markdown",
   "metadata": {},
   "source": [
    "Al emplear el método \".isnull\", se revela que en la columna \"pclass\", la cual indica la clase en la que el pasajero embarcó, hay 76 datos nulos. Asimismo, se identifican 239 datos faltantes en la columna \"age\", que representa la edad del pasajero. Se presume que esta ausencia de datos podría deberse, en su mayoría, a personas que no lograron sobrevivir.\n",
    "\n",
    "La columna \"cabin\", que describe el tipo de cabina del pasajero, presenta 927 datos nulos. Además, se observan dos datos faltantes en la columna \"embarked\", la cual indica la ciudad donde los pasajeros embarcaron. Respecto a la columna \"boat\", que indica el número de bote en el que lograron desembarcar durante el accidente, encontramos 751 datos nulos.\n",
    "\n",
    "La columna \"body\" registra 1110 datos nulos, pero como se explicó anteriormente, esta información corresponde al número de cadáver después de ser recuperado. Es normal que haya una gran cantidad de datos nulos, ya que muchos corresponden a cadáveres no recuperados o personas que lograron sobrevivir.\n",
    "\n",
    "Finalmente, la columna 'home.dest' refleja el lugar de origen del pasajero."
   ]
  },
  {
   "cell_type": "markdown",
   "metadata": {},
   "source": [
    "# Ítem 2 \n",
    "\n",
    "Los valores nulos en la columna 'pclass' fueron rellenados asignándoles la clase 2. Esto se realizó utilizando el método fillna() en la columna 'pclass' del DataFrame, con el valor 2 especificado como reemplazo."
   ]
  },
  {
   "cell_type": "code",
   "execution_count": 97,
   "metadata": {},
   "outputs": [
    {
     "data": {
      "text/plain": [
       "pclass          0\n",
       "survived        0\n",
       "name            0\n",
       "sex             0\n",
       "age           239\n",
       "sibsp           0\n",
       "parch           0\n",
       "ticket          0\n",
       "fare            0\n",
       "cabin         927\n",
       "embarked        2\n",
       "boat          751\n",
       "body         1110\n",
       "home.dest     475\n",
       "dtype: int64"
      ]
     },
     "execution_count": 97,
     "metadata": {},
     "output_type": "execute_result"
    }
   ],
   "source": [
    "df[\"pclass\"].fillna(2, inplace = True)\n",
    "df.isna().sum()"
   ]
  },
  {
   "cell_type": "markdown",
   "metadata": {},
   "source": [
    "Finalmente para asegurarse de que los cambios se aplicaron correctamente, se volvió a verificar la presencia de valores nulos después de la imputación usando \".isna\"."
   ]
  },
  {
   "cell_type": "markdown",
   "metadata": {},
   "source": [
    "# Ítem 3\n",
    "\n",
    "Para comprender la diversidad de valores en la columna 'Sex', se imprimieron los valores únicos utilizando el método unique()."
   ]
  },
  {
   "cell_type": "code",
   "execution_count": 98,
   "metadata": {},
   "outputs": [
    {
     "name": "stdout",
     "output_type": "stream",
     "text": [
      "['female' 'male' 'Hombre' 'Mujer']\n"
     ]
    }
   ],
   "source": [
    "print(df[\"sex\"].unique())"
   ]
  },
  {
   "cell_type": "markdown",
   "metadata": {},
   "source": [
    "Esto proporcionó una visión inicial de los valores presentes en la columna 'Sex'.\n",
    "\n",
    "Luego se definieron los valores deseados para 'Sex', que son \"male\" y \"female\", y se almacenaron en una lista llamada \"sex\".\n",
    "\n",
    "Se filtraron los datos de la columna 'Sex' para incluir solo los valores definidos en la lista \"sex\"."
   ]
  },
  {
   "cell_type": "code",
   "execution_count": 99,
   "metadata": {},
   "outputs": [
    {
     "name": "stdout",
     "output_type": "stream",
     "text": [
      "['female' 'male']\n"
     ]
    }
   ],
   "source": [
    "sex = [\"female\",\"male\"]\n",
    "\n",
    "df = df[df[\"sex\"].isin(sex)]\n",
    "\n",
    "print(df[\"sex\"].unique())"
   ]
  },
  {
   "cell_type": "markdown",
   "metadata": {},
   "source": [
    "Esto resultó en un DataFrame modificado que contiene únicamente las filas donde 'Sex' es \"male\" o \"female\".\n",
    "\n",
    "Para evaluar el impacto en el tamaño del DataFrame después de la imputación, se imprimió el tamaño del DataFrame, esto proporcionó información sobre la cantidad de filas y columnas en el DataFrame después de realizar los cambios en la columna 'Sex' que en comparación al inicio nos da que hemos eliminado una cierta cantidad de filas."
   ]
  },
  {
   "cell_type": "code",
   "execution_count": 108,
   "metadata": {},
   "outputs": [
    {
     "name": "stdout",
     "output_type": "stream",
     "text": [
      "Diferencia de filas con respecto al DataFrame inicial después de imputar los datos: 437\n"
     ]
    }
   ],
   "source": [
    "shape2 = df.shape\n",
    "\n",
    "diferencia_filas = shape1[0] - shape2[0]\n",
    "\n",
    "print(f\"Diferencia de filas con respecto al DataFrame inicial después de imputar los datos: {diferencia_filas}\")"
   ]
  },
  {
   "cell_type": "markdown",
   "metadata": {},
   "source": [
    "# Ítem 4\n",
    "\n",
    "Se imprimieron las estadísticas descriptivas de la columna 'age' para entender la distribución inicial de los datos, incluyendo el promedio.\n",
    "\n",
    "Esto proporcionó información sobre la media y el numero de datos no nulos que existen hasta el momento."
   ]
  },
  {
   "cell_type": "code",
   "execution_count": 101,
   "metadata": {},
   "outputs": [
    {
     "name": "stdout",
     "output_type": "stream",
     "text": [
      "count    627.000000\n",
      "mean      30.448432\n",
      "std       14.426633\n",
      "min        0.333300\n",
      "25%       21.000000\n",
      "50%       28.000000\n",
      "75%       39.000000\n",
      "max       80.000000\n",
      "Name: age, dtype: float64\n"
     ]
    }
   ],
   "source": [
    "print(df[\"age\"].describe())"
   ]
  },
  {
   "cell_type": "markdown",
   "metadata": {},
   "source": [
    "Se calculó el promedio de edad utilizando el método mean() en la columna 'age' y se almacenó en la variable age_mean.\n",
    "\n",
    "Este paso permitió obtener el promedio de edad de aquellos que tenían el dato disponible."
   ]
  },
  {
   "cell_type": "code",
   "execution_count": 102,
   "metadata": {},
   "outputs": [],
   "source": [
    "age_mean = df[\"age\"].mean()\n",
    "df[\"age\"].fillna(age_mean, inplace=True)"
   ]
  },
  {
   "cell_type": "markdown",
   "metadata": {},
   "source": [
    "La imputación con el promedio garantizó que los valores faltantes en 'age' fueran sustituidos por la media de los valores conocidos.\n",
    "\n",
    "Finalmente se volvieron a imprimir las estadísticas descriptivas de la columna 'age' para verificar cómo afectó la imputación al conjunto de datos, asi podemos confirmar que el numero de datos no nulos creció, obteniendo asi 155 datos que fueron reemplazados por la media de edad que es 30.44 años."
   ]
  },
  {
   "cell_type": "code",
   "execution_count": 103,
   "metadata": {},
   "outputs": [
    {
     "name": "stdout",
     "output_type": "stream",
     "text": [
      "count    782.000000\n",
      "mean      30.448432\n",
      "std       12.915958\n",
      "min        0.333300\n",
      "25%       23.000000\n",
      "50%       30.448432\n",
      "75%       35.000000\n",
      "max       80.000000\n",
      "Name: age, dtype: float64\n"
     ]
    }
   ],
   "source": [
    "print(df[\"age\"].describe())\n",
    "\n"
   ]
  },
  {
   "cell_type": "markdown",
   "metadata": {},
   "source": [
    "# Ítem 5\n"
   ]
  },
  {
   "cell_type": "markdown",
   "metadata": {},
   "source": [
    "Se imprimen las estadísticas descriptivas de la columna 'embarked' para verificar mas adelante como afectara la asignación de \"S\" al conjunto de datos."
   ]
  },
  {
   "cell_type": "code",
   "execution_count": 104,
   "metadata": {},
   "outputs": [
    {
     "name": "stdout",
     "output_type": "stream",
     "text": [
      "count     781\n",
      "unique      3\n",
      "top         S\n",
      "freq      561\n",
      "Name: embarked, dtype: object\n"
     ]
    }
   ],
   "source": [
    "print(df[\"embarked\"].describe())"
   ]
  },
  {
   "cell_type": "markdown",
   "metadata": {},
   "source": [
    "Se asignó el valor \"S\" a aquellos datos en la columna 'embarked' que se encontraban con valores vacíos. Esto se hizo mediante el método \"fillna()\".\n",
    "\n",
    "Luego se volvieron a imprimir las estadísticas descriptivas de la columna 'embarked' para verificar cómo afectó la asignación de \"S\" al conjunto de datos."
   ]
  },
  {
   "cell_type": "code",
   "execution_count": 105,
   "metadata": {},
   "outputs": [
    {
     "name": "stdout",
     "output_type": "stream",
     "text": [
      "count     782\n",
      "unique      3\n",
      "top         S\n",
      "freq      562\n",
      "Name: embarked, dtype: object\n"
     ]
    }
   ],
   "source": [
    "embarked_city = \"S\"\n",
    "df[\"embarked\"].fillna(embarked_city, inplace=True)\n",
    "\n",
    "print(df[\"embarked\"].describe())"
   ]
  },
  {
   "cell_type": "markdown",
   "metadata": {},
   "source": [
    "Este paso confirmó que los valores vacíos fueron reemplazados por \"S\" y ahora tenemos 782 no nulos."
   ]
  },
  {
   "cell_type": "markdown",
   "metadata": {},
   "source": [
    "# Conclusión\n",
    "\n",
    "La preparación de datos desempeña un papel crucial en la construcción de modelos de machine learning. Garantizar la coherencia, integridad y calidad de los datos es esencial para obtener resultados precisos y confiables. En este proceso por ejemplo abordamos valores faltantes en las columnas 'age' y 'embarked', asegurando que nuestro conjunto de datos esté listo para ser utilizado en un modelo. La atención a la preparación de datos es fundamental para maximizar la eficacia y la interpretación de los algoritmos de machine learning.\n",
    "\n",
    "Para finalizar mostraremos en pantalla que ya no existen datos nulos en las columnas en las que queremos que no existan estos."
   ]
  },
  {
   "cell_type": "code",
   "execution_count": 106,
   "metadata": {},
   "outputs": [
    {
     "name": "stdout",
     "output_type": "stream",
     "text": [
      "pclass         0\n",
      "survived       0\n",
      "name           0\n",
      "sex            0\n",
      "age            0\n",
      "sibsp          0\n",
      "parch          0\n",
      "ticket         0\n",
      "fare           0\n",
      "cabin        617\n",
      "embarked       0\n",
      "boat         560\n",
      "body         698\n",
      "home.dest    325\n",
      "dtype: int64\n"
     ]
    }
   ],
   "source": [
    "print(df.isnull().sum())"
   ]
  },
  {
   "cell_type": "code",
   "execution_count": 109,
   "metadata": {},
   "outputs": [
    {
     "data": {
      "text/plain": [
       "(782, 14)"
      ]
     },
     "execution_count": 109,
     "metadata": {},
     "output_type": "execute_result"
    }
   ],
   "source": [
    "df.shape"
   ]
  }
 ],
 "metadata": {
  "kernelspec": {
   "display_name": "base",
   "language": "python",
   "name": "python3"
  },
  "language_info": {
   "codemirror_mode": {
    "name": "ipython",
    "version": 3
   },
   "file_extension": ".py",
   "mimetype": "text/x-python",
   "name": "python",
   "nbconvert_exporter": "python",
   "pygments_lexer": "ipython3",
   "version": "3.10.9"
  }
 },
 "nbformat": 4,
 "nbformat_minor": 2
}
